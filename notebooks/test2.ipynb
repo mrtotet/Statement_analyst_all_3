{
 "cells": [
  {
   "cell_type": "code",
   "execution_count": 10,
   "id": "initial_id",
   "metadata": {
    "collapsed": true,
    "ExecuteTime": {
     "end_time": "2024-06-08T08:33:39.044243100Z",
     "start_time": "2024-06-08T08:33:38.976023400Z"
    }
   },
   "outputs": [],
   "source": []
  },
  {
   "cell_type": "markdown",
   "source": [
    "import & setup cơ bản"
   ],
   "metadata": {
    "collapsed": false
   },
   "id": "4489bd9222f69513"
  },
  {
   "cell_type": "code",
   "execution_count": 11,
   "outputs": [],
   "source": [
    "import pandas as pd\n",
    "pd.set_option('display.max_columns',500,'float_format', '{:,.2f}'.format) #hien het cac dong, format dau phay, 2 so 0\n",
    "pd.set_option('display.max_rows', 500)\n",
    "import glob"
   ],
   "metadata": {
    "collapsed": false,
    "ExecuteTime": {
     "end_time": "2024-06-08T08:33:39.065867600Z",
     "start_time": "2024-06-08T08:33:38.984207900Z"
    }
   },
   "id": "213da55345a375ef"
  },
  {
   "cell_type": "markdown",
   "source": [
    "input file statement quarter"
   ],
   "metadata": {
    "collapsed": false
   },
   "id": "e3706345e3555d47"
  },
  {
   "cell_type": "code",
   "execution_count": 12,
   "outputs": [
    {
     "name": "stderr",
     "output_type": "stream",
     "text": [
      "C:\\Users\\khoi.ln\\AppData\\Local\\Temp\\ipykernel_17984\\440143423.py:11: FutureWarning: DataFrame.fillna with 'method' is deprecated and will raise in a future version. Use obj.ffill() or obj.bfill() instead.\n",
      "  read_BCTC = read_BCTC.fillna(method='ffill')\n",
      "C:\\Users\\khoi.ln\\AppData\\Local\\Temp\\ipykernel_17984\\440143423.py:11: FutureWarning: DataFrame.fillna with 'method' is deprecated and will raise in a future version. Use obj.ffill() or obj.bfill() instead.\n",
      "  read_BCTC = read_BCTC.fillna(method='ffill')\n",
      "C:\\Users\\khoi.ln\\AppData\\Local\\Temp\\ipykernel_17984\\440143423.py:11: FutureWarning: DataFrame.fillna with 'method' is deprecated and will raise in a future version. Use obj.ffill() or obj.bfill() instead.\n",
      "  read_BCTC = read_BCTC.fillna(method='ffill')\n",
      "C:\\Users\\khoi.ln\\AppData\\Local\\Temp\\ipykernel_17984\\440143423.py:11: FutureWarning: DataFrame.fillna with 'method' is deprecated and will raise in a future version. Use obj.ffill() or obj.bfill() instead.\n",
      "  read_BCTC = read_BCTC.fillna(method='ffill')\n",
      "C:\\Users\\khoi.ln\\AppData\\Local\\Temp\\ipykernel_17984\\440143423.py:11: FutureWarning: DataFrame.fillna with 'method' is deprecated and will raise in a future version. Use obj.ffill() or obj.bfill() instead.\n",
      "  read_BCTC = read_BCTC.fillna(method='ffill')\n",
      "C:\\Users\\khoi.ln\\AppData\\Local\\Temp\\ipykernel_17984\\440143423.py:11: FutureWarning: DataFrame.fillna with 'method' is deprecated and will raise in a future version. Use obj.ffill() or obj.bfill() instead.\n",
      "  read_BCTC = read_BCTC.fillna(method='ffill')\n",
      "C:\\Users\\khoi.ln\\AppData\\Local\\Temp\\ipykernel_17984\\440143423.py:11: FutureWarning: DataFrame.fillna with 'method' is deprecated and will raise in a future version. Use obj.ffill() or obj.bfill() instead.\n",
      "  read_BCTC = read_BCTC.fillna(method='ffill')\n",
      "C:\\Users\\khoi.ln\\AppData\\Local\\Temp\\ipykernel_17984\\440143423.py:11: FutureWarning: DataFrame.fillna with 'method' is deprecated and will raise in a future version. Use obj.ffill() or obj.bfill() instead.\n",
      "  read_BCTC = read_BCTC.fillna(method='ffill')\n",
      "C:\\Users\\khoi.ln\\AppData\\Local\\Temp\\ipykernel_17984\\440143423.py:11: FutureWarning: DataFrame.fillna with 'method' is deprecated and will raise in a future version. Use obj.ffill() or obj.bfill() instead.\n",
      "  read_BCTC = read_BCTC.fillna(method='ffill')\n"
     ]
    },
    {
     "ename": "InvalidIndexError",
     "evalue": "Reindexing only valid with uniquely valued Index objects",
     "output_type": "error",
     "traceback": [
      "\u001B[1;31m---------------------------------------------------------------------------\u001B[0m",
      "\u001B[1;31mInvalidIndexError\u001B[0m                         Traceback (most recent call last)",
      "Cell \u001B[1;32mIn[12], line 17\u001B[0m\n\u001B[0;32m     14\u001B[0m     \u001B[38;5;66;03m#BCTC.set_index('Ticker', inplace = True)\u001B[39;00m\n\u001B[0;32m     15\u001B[0m     list_report\u001B[38;5;241m.\u001B[39mappend(BCTC)    \u001B[38;5;66;03m# tạo list các báo cao doanh nghiệp\u001B[39;00m\n\u001B[1;32m---> 17\u001B[0m report_concat \u001B[38;5;241m=\u001B[39m pd\u001B[38;5;241m.\u001B[39mconcat(list_report, axis \u001B[38;5;241m=\u001B[39m \u001B[38;5;241m0\u001B[39m )  \u001B[38;5;66;03m# nối các báo cáo doanh nghiệp\u001B[39;00m\n\u001B[0;32m     18\u001B[0m report_concat\n",
      "File \u001B[1;32m~\\AppData\\Local\\anaconda3\\envs\\khoi_coding\\Lib\\site-packages\\pandas\\core\\reshape\\concat.py:393\u001B[0m, in \u001B[0;36mconcat\u001B[1;34m(objs, axis, join, ignore_index, keys, levels, names, verify_integrity, sort, copy)\u001B[0m\n\u001B[0;32m    378\u001B[0m     copy \u001B[38;5;241m=\u001B[39m \u001B[38;5;28;01mFalse\u001B[39;00m\n\u001B[0;32m    380\u001B[0m op \u001B[38;5;241m=\u001B[39m _Concatenator(\n\u001B[0;32m    381\u001B[0m     objs,\n\u001B[0;32m    382\u001B[0m     axis\u001B[38;5;241m=\u001B[39maxis,\n\u001B[1;32m   (...)\u001B[0m\n\u001B[0;32m    390\u001B[0m     sort\u001B[38;5;241m=\u001B[39msort,\n\u001B[0;32m    391\u001B[0m )\n\u001B[1;32m--> 393\u001B[0m \u001B[38;5;28;01mreturn\u001B[39;00m op\u001B[38;5;241m.\u001B[39mget_result()\n",
      "File \u001B[1;32m~\\AppData\\Local\\anaconda3\\envs\\khoi_coding\\Lib\\site-packages\\pandas\\core\\reshape\\concat.py:676\u001B[0m, in \u001B[0;36m_Concatenator.get_result\u001B[1;34m(self)\u001B[0m\n\u001B[0;32m    674\u001B[0m         obj_labels \u001B[38;5;241m=\u001B[39m obj\u001B[38;5;241m.\u001B[39maxes[\u001B[38;5;241m1\u001B[39m \u001B[38;5;241m-\u001B[39m ax]\n\u001B[0;32m    675\u001B[0m         \u001B[38;5;28;01mif\u001B[39;00m \u001B[38;5;129;01mnot\u001B[39;00m new_labels\u001B[38;5;241m.\u001B[39mequals(obj_labels):\n\u001B[1;32m--> 676\u001B[0m             indexers[ax] \u001B[38;5;241m=\u001B[39m obj_labels\u001B[38;5;241m.\u001B[39mget_indexer(new_labels)\n\u001B[0;32m    678\u001B[0m     mgrs_indexers\u001B[38;5;241m.\u001B[39mappend((obj\u001B[38;5;241m.\u001B[39m_mgr, indexers))\n\u001B[0;32m    680\u001B[0m new_data \u001B[38;5;241m=\u001B[39m concatenate_managers(\n\u001B[0;32m    681\u001B[0m     mgrs_indexers, \u001B[38;5;28mself\u001B[39m\u001B[38;5;241m.\u001B[39mnew_axes, concat_axis\u001B[38;5;241m=\u001B[39m\u001B[38;5;28mself\u001B[39m\u001B[38;5;241m.\u001B[39mbm_axis, copy\u001B[38;5;241m=\u001B[39m\u001B[38;5;28mself\u001B[39m\u001B[38;5;241m.\u001B[39mcopy\n\u001B[0;32m    682\u001B[0m )\n",
      "File \u001B[1;32m~\\AppData\\Local\\anaconda3\\envs\\khoi_coding\\Lib\\site-packages\\pandas\\core\\indexes\\base.py:3874\u001B[0m, in \u001B[0;36mIndex.get_indexer\u001B[1;34m(self, target, method, limit, tolerance)\u001B[0m\n\u001B[0;32m   3871\u001B[0m \u001B[38;5;28mself\u001B[39m\u001B[38;5;241m.\u001B[39m_check_indexing_method(method, limit, tolerance)\n\u001B[0;32m   3873\u001B[0m \u001B[38;5;28;01mif\u001B[39;00m \u001B[38;5;129;01mnot\u001B[39;00m \u001B[38;5;28mself\u001B[39m\u001B[38;5;241m.\u001B[39m_index_as_unique:\n\u001B[1;32m-> 3874\u001B[0m     \u001B[38;5;28;01mraise\u001B[39;00m InvalidIndexError(\u001B[38;5;28mself\u001B[39m\u001B[38;5;241m.\u001B[39m_requires_unique_msg)\n\u001B[0;32m   3876\u001B[0m \u001B[38;5;28;01mif\u001B[39;00m \u001B[38;5;28mlen\u001B[39m(target) \u001B[38;5;241m==\u001B[39m \u001B[38;5;241m0\u001B[39m:\n\u001B[0;32m   3877\u001B[0m     \u001B[38;5;28;01mreturn\u001B[39;00m np\u001B[38;5;241m.\u001B[39marray([], dtype\u001B[38;5;241m=\u001B[39mnp\u001B[38;5;241m.\u001B[39mintp)\n",
      "\u001B[1;31mInvalidIndexError\u001B[0m: Reindexing only valid with uniquely valued Index objects"
     ]
    }
   ],
   "source": [
    "\n",
    "path_quarterly = '../data/raw/datavietstock/all_statement_hsx_hnx_upcom/quarterly/editted/'   # path to statement quarter\n",
    "# thay đổi path ở dòng path và data_clean để lấy dữ liệu yearly hoặc quarterly\n",
    "path = path_quarterly\n",
    "# tạo danh sách đường dẫn fle\n",
    "report_files = glob.glob(path + \"*.xlsx\")    # lấy dữ liệu ở path quaterly\n",
    "list_report = []  # tạo list rỗng để append các BCTC\n",
    "a = 0\n",
    "for filename in report_files:\n",
    "    a =+1\n",
    "    read_BCTC = pd.read_excel(filename,sheet_name=0, header=None)\n",
    "    read_BCTC = read_BCTC.fillna(method='ffill')\n",
    "    read_BCTC.columns = read_BCTC.iloc[6]   #lấy tên columns ở dòng đầu tiền\n",
    "    BCTC = read_BCTC[7:]  # chỉ lấy dữ liệu ở dòng thứ 2 trở đi\n",
    "    #BCTC.set_index('Ticker', inplace = True)\n",
    "    list_report.append(BCTC)    # tạo list các báo cao doanh nghiệp\n",
    "\n",
    "report_concat = pd.concat(list_report, axis = 0 )  # nối các báo cáo doanh nghiệp\n",
    "report_concat\n",
    "\n",
    "#list_report"
   ],
   "metadata": {
    "collapsed": false,
    "ExecuteTime": {
     "end_time": "2024-06-08T08:34:03.094958400Z",
     "start_time": "2024-06-08T08:33:38.990990700Z"
    }
   },
   "id": "24e3c5fab553c5d9"
  },
  {
   "cell_type": "code",
   "execution_count": null,
   "outputs": [],
   "source": [],
   "metadata": {
    "collapsed": false,
    "ExecuteTime": {
     "end_time": "2024-06-08T08:34:03.110991Z",
     "start_time": "2024-06-08T08:34:03.096952600Z"
    }
   },
   "id": "dfaca7d15ad8c8f8"
  }
 ],
 "metadata": {
  "kernelspec": {
   "display_name": "Python 3",
   "language": "python",
   "name": "python3"
  },
  "language_info": {
   "codemirror_mode": {
    "name": "ipython",
    "version": 2
   },
   "file_extension": ".py",
   "mimetype": "text/x-python",
   "name": "python",
   "nbconvert_exporter": "python",
   "pygments_lexer": "ipython2",
   "version": "2.7.6"
  }
 },
 "nbformat": 4,
 "nbformat_minor": 5
}
